{
 "cells": [
  {
   "cell_type": "code",
   "execution_count": 54,
   "metadata": {
    "collapsed": false,
    "jupyter": {
     "outputs_hidden": false
    }
   },
   "outputs": [],
   "source": [
    "%matplotlib inline\n",
    "import pandas as pd\n",
    "import numpy as np\n",
    "import seaborn as sns\n",
    "import matplotlib.pyplot as plt\n",
    "import matplotlib.cm as cm\n",
    "import os\n",
    "from sklearn.preprocessing import LabelEncoder\n",
    "from sklearn.model_selection import KFold\n",
    "from sklearn.metrics import log_loss"
   ]
  },
  {
   "cell_type": "markdown",
   "metadata": {},
   "source": [
    "# Phone brand and device model based benchmarks\n",
    "\n",
    "The task in this competition is to predict a user's age and gender group using information about their mobile phone model and usage patterns.\n",
    "\n",
    "Since many of the devices have no events data it's interesting to know how much information we can extract from phone brand and device model only. This notebook contains some benchmark approaches of inferring age and gender from data contained in `phone_brand_device_model.csv`.\n",
    "\n",
    "CV scores of different approaches obtained by 10-fold cross-validation are as follows:\n",
    "\n",
    "* 2.485 - 1/n_classes benchmark\n",
    "* 2.428 - class probabilities benchmark\n",
    "* 2.420 - predicting gender from phone brand\n",
    "* 2.417 - predicting gender from device model\n",
    "* 2.402 - predict gender-age group from phone brand\n",
    "* 2.395 - predict gender-age group from device model\n",
    "* 2.391 - mean of last two\n",
    "\n",
    "Some notes from the exploratory analysis:\n",
    "\n",
    "* Some device models could belong to different brands. So the correct way to label encode device model is to concatenate with brand first.\n",
    "* `phone_brand_device_model.csv` contains double entries for 529 device_ids. Most of these duplicate rows are identical and can be safely dropped, but six devices actually have different information in their rows. Of these 1 belongs to the train set and 5 to the test set.\n",
    "\n",
    "## Demographic data"
   ]
  },
  {
   "cell_type": "code",
   "execution_count": 55,
   "metadata": {
    "collapsed": false,
    "jupyter": {
     "outputs_hidden": false
    }
   },
   "outputs": [
    {
     "data": {
      "text/html": [
       "<div>\n",
       "<style scoped>\n",
       "    .dataframe tbody tr th:only-of-type {\n",
       "        vertical-align: middle;\n",
       "    }\n",
       "\n",
       "    .dataframe tbody tr th {\n",
       "        vertical-align: top;\n",
       "    }\n",
       "\n",
       "    .dataframe thead th {\n",
       "        text-align: right;\n",
       "    }\n",
       "</style>\n",
       "<table border=\"1\" class=\"dataframe\">\n",
       "  <thead>\n",
       "    <tr style=\"text-align: right;\">\n",
       "      <th></th>\n",
       "      <th>device_id</th>\n",
       "      <th>gender</th>\n",
       "      <th>age</th>\n",
       "      <th>group</th>\n",
       "    </tr>\n",
       "  </thead>\n",
       "  <tbody>\n",
       "    <tr>\n",
       "      <th>0</th>\n",
       "      <td>-8076087639492063270</td>\n",
       "      <td>M</td>\n",
       "      <td>35</td>\n",
       "      <td>M32-38</td>\n",
       "    </tr>\n",
       "    <tr>\n",
       "      <th>1</th>\n",
       "      <td>-2897161552818060146</td>\n",
       "      <td>M</td>\n",
       "      <td>35</td>\n",
       "      <td>M32-38</td>\n",
       "    </tr>\n",
       "    <tr>\n",
       "      <th>2</th>\n",
       "      <td>-8260683887967679142</td>\n",
       "      <td>M</td>\n",
       "      <td>35</td>\n",
       "      <td>M32-38</td>\n",
       "    </tr>\n",
       "  </tbody>\n",
       "</table>\n",
       "</div>"
      ],
      "text/plain": [
       "             device_id gender  age   group\n",
       "0 -8076087639492063270      M   35  M32-38\n",
       "1 -2897161552818060146      M   35  M32-38\n",
       "2 -8260683887967679142      M   35  M32-38"
      ]
     },
     "execution_count": 55,
     "metadata": {},
     "output_type": "execute_result"
    }
   ],
   "source": [
    "gatrain = pd.read_csv('data/gender_age_train.csv')\n",
    "gatest = pd.read_csv('data/gender_age_test.csv')\n",
    "gatrain.head(3)"
   ]
  },
  {
   "cell_type": "code",
   "execution_count": 56,
   "metadata": {
    "collapsed": false,
    "jupyter": {
     "outputs_hidden": false
    }
   },
   "outputs": [
    {
     "data": {
      "text/plain": [
       "0"
      ]
     },
     "execution_count": 56,
     "metadata": {},
     "output_type": "execute_result"
    }
   ],
   "source": [
    "gatrain.shape[0] - gatrain.device_id.nunique()"
   ]
  },
  {
   "cell_type": "code",
   "execution_count": 57,
   "metadata": {
    "collapsed": false,
    "jupyter": {
     "outputs_hidden": false
    }
   },
   "outputs": [
    {
     "data": {
      "text/plain": [
       "0"
      ]
     },
     "execution_count": 57,
     "metadata": {},
     "output_type": "execute_result"
    }
   ],
   "source": [
    "gatest.shape[0] - gatest.device_id.nunique()"
   ]
  },
  {
   "cell_type": "markdown",
   "metadata": {},
   "source": [
    "None, great.\n",
    "\n",
    "### Age and gender distributions\n",
    "\n",
    "Counts of target groups"
   ]
  },
  {
   "cell_type": "code",
   "execution_count": 58,
   "metadata": {
    "collapsed": false,
    "jupyter": {
     "outputs_hidden": false
    }
   },
   "outputs": [
    {
     "data": {
      "text/plain": [
       "<AxesSubplot:>"
      ]
     },
     "execution_count": 58,
     "metadata": {},
     "output_type": "execute_result"
    },
    {
     "data": {
      "image/png": "[encoded data removed]",
      "text/plain": [
       "<Figure size 432x288 with 1 Axes>"
      ]
     },
     "metadata": {
      "needs_background": "light"
     },
     "output_type": "display_data"
    }
   ],
   "source": [
    "gatrain.group.value_counts().sort_index(ascending=False).plot(kind='barh')"
   ]
  },
  {
   "cell_type": "markdown",
   "metadata": {},
   "source": [
    "Gender counts"
   ]
  },
  {
   "cell_type": "code",
   "execution_count": 59,
   "metadata": {
    "collapsed": false,
    "jupyter": {
     "outputs_hidden": false
    }
   },
   "outputs": [
    {
     "data": {
      "text/plain": [
       "<AxesSubplot:>"
      ]
     },
     "execution_count": 59,
     "metadata": {},
     "output_type": "execute_result"
    },
    {
     "data": {
      "image/png": "[encoded data removed]",
      "text/plain": [
       "<Figure size 432x288 with 1 Axes>"
      ]
     },
     "metadata": {
      "needs_background": "light"
     },
     "output_type": "display_data"
    }
   ],
   "source": [
    "gatrain.gender.value_counts().plot(kind='barh')"
   ]
  },
  {
   "cell_type": "markdown",
   "metadata": {},
   "source": [
    "Age distribution, lines denote target groups."
   ]
  },
  {
   "cell_type": "code",
   "execution_count": 60,
   "metadata": {
    "collapsed": false,
    "jupyter": {
     "outputs_hidden": false
    }
   },
   "outputs": [
    {
     "data": {
      "text/plain": [
       "<matplotlib.collections.LineCollection at 0x261ad679e80>"
      ]
     },
     "execution_count": 60,
     "metadata": {},
     "output_type": "execute_result"
    },
    {
     "data": {
      "image/png": "[encoded data removed]",
      "text/plain": [
       "<Figure size 864x432 with 2 Axes>"
      ]
     },
     "metadata": {
      "needs_background": "light"
     },
     "output_type": "display_data"
    }
   ],
   "source": [
    "c = gatrain.groupby(['age','gender']).size().unstack().reindex(index=np.arange(gatrain.age.min(), gatrain.age.max()+1)).fillna(0)\n",
    "ax1, ax2 = c.plot(kind='bar',figsize=(12,6),subplots=True);\n",
    "ax1.vlines(np.array([23,26,28,32,42])-0.5,0,1800,alpha=0.5,linewidth=1,color='r')\n",
    "ax2.vlines(np.array([22,26,28,31,38])-0.5,0,3000,alpha=0.5,linewidth=1,color='r')"
   ]
  },
  {
   "cell_type": "markdown",
   "metadata": {},
   "source": [
    "### 1/n_classes benchmark"
   ]
  },
  {
   "cell_type": "code",
   "execution_count": 61,
   "metadata": {
    "collapsed": false,
    "jupyter": {
     "outputs_hidden": false
    }
   },
   "outputs": [],
   "source": [
    "letarget = LabelEncoder().fit(gatrain.group.values)\n",
    "y = letarget.transform(gatrain.group.values)\n",
    "n_classes = len(letarget.classes_)"
   ]
  },
  {
   "cell_type": "code",
   "execution_count": 62,
   "metadata": {},
   "outputs": [
    {
     "data": {
      "text/plain": [
       "array([10, 10, 10, ...,  6, 10,  7])"
      ]
     },
     "execution_count": 62,
     "metadata": {},
     "output_type": "execute_result"
    }
   ],
   "source": [
    "y"
   ]
  },
  {
   "cell_type": "code",
   "execution_count": 63,
   "metadata": {
    "collapsed": false,
    "jupyter": {
     "outputs_hidden": false
    }
   },
   "outputs": [
    {
     "data": {
      "text/plain": [
       "2.4849066497880012"
      ]
     },
     "execution_count": 63,
     "metadata": {},
     "output_type": "execute_result"
    }
   ],
   "source": [
    "pred = np.ones((gatrain.shape[0],n_classes))/n_classes\n",
    "log_loss(y, pred)"
   ]
  },
  {
   "cell_type": "markdown",
   "metadata": {},
   "source": [
    "### Class probabilities benchmark\n",
    "\n",
    "Best we can do without any features."
   ]
  },
  {
   "cell_type": "code",
   "execution_count": 26,
   "metadata": {},
   "outputs": [
    {
     "name": "stdout",
     "output_type": "stream",
     "text": [
      "74645\n"
     ]
    }
   ],
   "source": [
    "kf = KFold(gatrain.shape[0], n_splits=10, shuffle=True, random_state=0)\n",
    "print(kf.get_n_splits(y))"
   ]
  },
  {
   "cell_type": "code",
   "execution_count": 20,
   "metadata": {
    "collapsed": false,
    "jupyter": {
     "outputs_hidden": false
    }
   },
   "outputs": [
    {
     "ename": "TypeError",
     "evalue": "'KFold' object is not iterable",
     "output_type": "error",
     "traceback": [
      "\u001b[1;31m---------------------------------------------------------------------------\u001b[0m",
      "\u001b[1;31mTypeError\u001b[0m                                 Traceback (most recent call last)",
      "\u001b[1;32m<ipython-input-20-9ad6f9b1e49d>\u001b[0m in \u001b[0;36m<module>\u001b[1;34m\u001b[0m\n\u001b[0;32m      1\u001b[0m \u001b[0mkf\u001b[0m \u001b[1;33m=\u001b[0m \u001b[0mKFold\u001b[0m\u001b[1;33m(\u001b[0m\u001b[0mgatrain\u001b[0m\u001b[1;33m.\u001b[0m\u001b[0mshape\u001b[0m\u001b[1;33m[\u001b[0m\u001b[1;36m0\u001b[0m\u001b[1;33m]\u001b[0m\u001b[1;33m,\u001b[0m \u001b[0mn_splits\u001b[0m\u001b[1;33m=\u001b[0m\u001b[1;36m10\u001b[0m\u001b[1;33m,\u001b[0m \u001b[0mshuffle\u001b[0m\u001b[1;33m=\u001b[0m\u001b[1;32mTrue\u001b[0m\u001b[1;33m,\u001b[0m \u001b[0mrandom_state\u001b[0m\u001b[1;33m=\u001b[0m\u001b[1;36m0\u001b[0m\u001b[1;33m)\u001b[0m\u001b[1;33m\u001b[0m\u001b[1;33m\u001b[0m\u001b[0m\n\u001b[0;32m      2\u001b[0m \u001b[0mpred\u001b[0m \u001b[1;33m=\u001b[0m \u001b[0mnp\u001b[0m\u001b[1;33m.\u001b[0m\u001b[0mzeros\u001b[0m\u001b[1;33m(\u001b[0m\u001b[1;33m(\u001b[0m\u001b[0mgatrain\u001b[0m\u001b[1;33m.\u001b[0m\u001b[0mshape\u001b[0m\u001b[1;33m[\u001b[0m\u001b[1;36m0\u001b[0m\u001b[1;33m]\u001b[0m\u001b[1;33m,\u001b[0m\u001b[0mn_classes\u001b[0m\u001b[1;33m)\u001b[0m\u001b[1;33m)\u001b[0m\u001b[1;33m\u001b[0m\u001b[1;33m\u001b[0m\u001b[0m\n\u001b[1;32m----> 3\u001b[1;33m \u001b[1;32mfor\u001b[0m \u001b[0mitrain\u001b[0m\u001b[1;33m,\u001b[0m \u001b[0mitest\u001b[0m \u001b[1;32min\u001b[0m \u001b[0mkf\u001b[0m\u001b[1;33m:\u001b[0m\u001b[1;33m\u001b[0m\u001b[1;33m\u001b[0m\u001b[0m\n\u001b[0m\u001b[0;32m      4\u001b[0m     \u001b[0mtrain\u001b[0m \u001b[1;33m=\u001b[0m \u001b[0mgatrain\u001b[0m\u001b[1;33m.\u001b[0m\u001b[0miloc\u001b[0m\u001b[1;33m[\u001b[0m\u001b[0mitrain\u001b[0m\u001b[1;33m,\u001b[0m\u001b[1;33m:\u001b[0m\u001b[1;33m]\u001b[0m\u001b[1;33m\u001b[0m\u001b[1;33m\u001b[0m\u001b[0m\n\u001b[0;32m      5\u001b[0m     \u001b[0mtest\u001b[0m \u001b[1;33m=\u001b[0m \u001b[0mgatrain\u001b[0m\u001b[1;33m.\u001b[0m\u001b[0miloc\u001b[0m\u001b[1;33m[\u001b[0m\u001b[0mitest\u001b[0m\u001b[1;33m,\u001b[0m\u001b[1;33m:\u001b[0m\u001b[1;33m]\u001b[0m\u001b[1;33m\u001b[0m\u001b[1;33m\u001b[0m\u001b[0m\n",
      "\u001b[1;31mTypeError\u001b[0m: 'KFold' object is not iterable"
     ]
    }
   ],
   "source": [
    "kf = KFold(gatrain.shape[0], n_splits=10, shuffle=True, random_state=0)\n",
    "pred = np.zeros((gatrain.shape[0],n_classes))\n",
    "for itrain, itest in kf:\n",
    "    train = gatrain.iloc[itrain,:]\n",
    "    test = gatrain.iloc[itest,:]\n",
    "    ytrain, ytest = y[itrain], y[itest]\n",
    "    prob = train.groupby('group').size()/train.shape[0]\n",
    "    pred[itest,:] = prob.values\n",
    "print(log_loss(y, pred))"
   ]
  },
  {
   "cell_type": "markdown",
   "metadata": {},
   "source": [
    "## Phone brand and model data"
   ]
  },
  {
   "cell_type": "code",
   "execution_count": 65,
   "metadata": {
    "collapsed": false,
    "jupyter": {
     "outputs_hidden": false
    }
   },
   "outputs": [
    {
     "data": {
      "text/html": [
       "<div>\n",
       "<style scoped>\n",
       "    .dataframe tbody tr th:only-of-type {\n",
       "        vertical-align: middle;\n",
       "    }\n",
       "\n",
       "    .dataframe tbody tr th {\n",
       "        vertical-align: top;\n",
       "    }\n",
       "\n",
       "    .dataframe thead th {\n",
       "        text-align: right;\n",
       "    }\n",
       "</style>\n",
       "<table border=\"1\" class=\"dataframe\">\n",
       "  <thead>\n",
       "    <tr style=\"text-align: right;\">\n",
       "      <th></th>\n",
       "      <th>device_id</th>\n",
       "      <th>phone_brand</th>\n",
       "      <th>device_model</th>\n",
       "    </tr>\n",
       "  </thead>\n",
       "  <tbody>\n",
       "    <tr>\n",
       "      <th>0</th>\n",
       "      <td>-8890648629457979026</td>\n",
       "      <td>小米</td>\n",
       "      <td>红米</td>\n",
       "    </tr>\n",
       "    <tr>\n",
       "      <th>1</th>\n",
       "      <td>1277779817574759137</td>\n",
       "      <td>小米</td>\n",
       "      <td>MI 2</td>\n",
       "    </tr>\n",
       "    <tr>\n",
       "      <th>2</th>\n",
       "      <td>5137427614288105724</td>\n",
       "      <td>三星</td>\n",
       "      <td>Galaxy S4</td>\n",
       "    </tr>\n",
       "  </tbody>\n",
       "</table>\n",
       "</div>"
      ],
      "text/plain": [
       "             device_id phone_brand device_model\n",
       "0 -8890648629457979026          小米           红米\n",
       "1  1277779817574759137          小米         MI 2\n",
       "2  5137427614288105724          三星    Galaxy S4"
      ]
     },
     "execution_count": 65,
     "metadata": {},
     "output_type": "execute_result"
    }
   ],
   "source": [
    "phone = pd.read_csv('data/phone_brand_device_model.csv',encoding='utf-8')\n",
    "phone.head(3)"
   ]
  },
  {
   "cell_type": "code",
   "execution_count": 66,
   "metadata": {
    "collapsed": false,
    "jupyter": {
     "outputs_hidden": false
    }
   },
   "outputs": [
    {
     "name": "stdout",
     "output_type": "stream",
     "text": [
      "187245 rows\n",
      "unique values:\n",
      "device_id: 186716\n",
      "phone_brand: 131\n",
      "device_model: 1599\n"
     ]
    }
   ],
   "source": [
    "print('{} rows'.format(phone.shape[0]))\n",
    "print(\"unique values:\")\n",
    "for c in phone.columns:\n",
    "    print('{}: {}'.format(c, phone[c].nunique()))"
   ]
  },
  {
   "cell_type": "markdown",
   "metadata": {},
   "source": [
    "### Duplicate devide_ids"
   ]
  },
  {
   "cell_type": "code",
   "execution_count": 67,
   "metadata": {
    "collapsed": false,
    "jupyter": {
     "outputs_hidden": false
    }
   },
   "outputs": [
    {
     "data": {
      "text/plain": [
       "(529,)"
      ]
     },
     "execution_count": 67,
     "metadata": {},
     "output_type": "execute_result"
    }
   ],
   "source": [
    "dup = phone.groupby('device_id').size()\n",
    "dup = dup[dup>1]\n",
    "dup.shape"
   ]
  },
  {
   "cell_type": "code",
   "execution_count": 68,
   "metadata": {
    "collapsed": false,
    "jupyter": {
     "outputs_hidden": false
    }
   },
   "outputs": [
    {
     "data": {
      "text/plain": [
       "2    529\n",
       "dtype: int64"
      ]
     },
     "execution_count": 68,
     "metadata": {},
     "output_type": "execute_result"
    }
   ],
   "source": [
    "dup.value_counts()"
   ]
  },
  {
   "cell_type": "markdown",
   "metadata": {},
   "source": [
    "529 device ids have duplicate entries in phone dataframe. Are duplicate rows identical or different?"
   ]
  },
  {
   "cell_type": "code",
   "execution_count": 69,
   "metadata": {
    "collapsed": false,
    "jupyter": {
     "outputs_hidden": false
    }
   },
   "outputs": [],
   "source": [
    "dup = phone.loc[phone.device_id.isin(dup.index)]\n",
    "first = dup.groupby('device_id').first()\n",
    "last = dup.groupby('device_id').last()"
   ]
  },
  {
   "cell_type": "code",
   "execution_count": 70,
   "metadata": {
    "collapsed": false,
    "jupyter": {
     "outputs_hidden": false
    }
   },
   "outputs": [
    {
     "data": {
      "text/html": [
       "<div>\n",
       "<style scoped>\n",
       "    .dataframe tbody tr th:only-of-type {\n",
       "        vertical-align: middle;\n",
       "    }\n",
       "\n",
       "    .dataframe tbody tr th {\n",
       "        vertical-align: top;\n",
       "    }\n",
       "\n",
       "    .dataframe thead th {\n",
       "        text-align: right;\n",
       "    }\n",
       "</style>\n",
       "<table border=\"1\" class=\"dataframe\">\n",
       "  <thead>\n",
       "    <tr style=\"text-align: right;\">\n",
       "      <th></th>\n",
       "      <th>phone_brand</th>\n",
       "      <th>device_model</th>\n",
       "      <th>phone_brand</th>\n",
       "      <th>device_model</th>\n",
       "    </tr>\n",
       "    <tr>\n",
       "      <th>device_id</th>\n",
       "      <th></th>\n",
       "      <th></th>\n",
       "      <th></th>\n",
       "      <th></th>\n",
       "    </tr>\n",
       "  </thead>\n",
       "  <tbody>\n",
       "    <tr>\n",
       "      <th>-7297178577997113203</th>\n",
       "      <td>华为</td>\n",
       "      <td>荣耀畅玩5X</td>\n",
       "      <td>华为</td>\n",
       "      <td>荣耀3C</td>\n",
       "    </tr>\n",
       "    <tr>\n",
       "      <th>-7059081542575379359</th>\n",
       "      <td>LG</td>\n",
       "      <td>Nexus 5</td>\n",
       "      <td>魅族</td>\n",
       "      <td>魅蓝Note 2</td>\n",
       "    </tr>\n",
       "    <tr>\n",
       "      <th>-6590454305031525112</th>\n",
       "      <td>小米</td>\n",
       "      <td>MI 3</td>\n",
       "      <td>华为</td>\n",
       "      <td>荣耀6 Plus</td>\n",
       "    </tr>\n",
       "    <tr>\n",
       "      <th>-5269721363279128080</th>\n",
       "      <td>三星</td>\n",
       "      <td>Galaxy Core Advance</td>\n",
       "      <td>小米</td>\n",
       "      <td>MI 3</td>\n",
       "    </tr>\n",
       "    <tr>\n",
       "      <th>-3004353610608679970</th>\n",
       "      <td>酷派</td>\n",
       "      <td>5891</td>\n",
       "      <td>酷派</td>\n",
       "      <td>7296</td>\n",
       "    </tr>\n",
       "    <tr>\n",
       "      <th>5245428108336915020</th>\n",
       "      <td>魅族</td>\n",
       "      <td>MX4</td>\n",
       "      <td>小米</td>\n",
       "      <td>MI One Plus</td>\n",
       "    </tr>\n",
       "  </tbody>\n",
       "</table>\n",
       "</div>"
      ],
      "text/plain": [
       "                     phone_brand         device_model phone_brand device_model\n",
       "device_id                                                                     \n",
       "-7297178577997113203          华为               荣耀畅玩5X          华为         荣耀3C\n",
       "-7059081542575379359          LG              Nexus 5          魅族     魅蓝Note 2\n",
       "-6590454305031525112          小米                 MI 3          华为     荣耀6 Plus\n",
       "-5269721363279128080          三星  Galaxy Core Advance          小米         MI 3\n",
       "-3004353610608679970          酷派                 5891          酷派         7296\n",
       " 5245428108336915020          魅族                  MX4          小米  MI One Plus"
      ]
     },
     "execution_count": 70,
     "metadata": {},
     "output_type": "execute_result"
    }
   ],
   "source": [
    "diff = (first != last).sum(axis=1).to_numpy().nonzero()\n",
    "pd.concat((first.iloc[diff], last.iloc[diff]),axis=1)"
   ]
  },
  {
   "cell_type": "markdown",
   "metadata": {},
   "source": [
    "Looks like 6 devices with duplicate rows have different values for brand and model. Are they in train or in test?"
   ]
  },
  {
   "cell_type": "code",
   "execution_count": 71,
   "metadata": {
    "collapsed": false,
    "jupyter": {
     "outputs_hidden": false
    }
   },
   "outputs": [
    {
     "name": "stdout",
     "output_type": "stream",
     "text": [
      "in train: 1\n",
      "in test: 5\n"
     ]
    }
   ],
   "source": [
    "dev = _.index\n",
    "print(\"in train: {}\".format(sum(gatrain.device_id.isin(dev))))\n",
    "print(\"in test: {}\".format(sum(gatest.device_id.isin(dev))))"
   ]
  },
  {
   "cell_type": "markdown",
   "metadata": {},
   "source": [
    "For now just drop duplicates."
   ]
  },
  {
   "cell_type": "code",
   "execution_count": 72,
   "metadata": {
    "collapsed": false,
    "jupyter": {
     "outputs_hidden": false
    }
   },
   "outputs": [],
   "source": [
    "phone = phone.drop_duplicates('device_id', keep='first')"
   ]
  },
  {
   "cell_type": "markdown",
   "metadata": {},
   "source": [
    "### Any models that can belong to different brands?"
   ]
  },
  {
   "cell_type": "code",
   "execution_count": 73,
   "metadata": {
    "collapsed": false,
    "jupyter": {
     "outputs_hidden": false
    }
   },
   "outputs": [
    {
     "data": {
      "text/plain": [
       "1    1545\n",
       "2      43\n",
       "3       8\n",
       "4       3\n",
       "Name: phone_brand, dtype: int64"
      ]
     },
     "execution_count": 73,
     "metadata": {},
     "output_type": "execute_result"
    }
   ],
   "source": [
    "c = phone.groupby('device_model')['phone_brand'].apply(pd.Series.nunique)\n",
    "c.value_counts()"
   ]
  },
  {
   "cell_type": "markdown",
   "metadata": {},
   "source": [
    "Some device models can belong to more than one brand. So the correct way to label-encode device models is probably to concatenate with brand first."
   ]
  },
  {
   "cell_type": "code",
   "execution_count": 74,
   "metadata": {
    "collapsed": false,
    "jupyter": {
     "outputs_hidden": false
    }
   },
   "outputs": [],
   "source": [
    "lebrand = LabelEncoder().fit(phone.phone_brand)\n",
    "phone['brand'] = lebrand.transform(phone.phone_brand)\n",
    "m = phone.phone_brand.str.cat(phone.device_model)\n",
    "lemodel = LabelEncoder().fit(m)\n",
    "phone['model'] = lemodel.transform(m)"
   ]
  },
  {
   "cell_type": "code",
   "execution_count": 75,
   "metadata": {},
   "outputs": [
    {
     "data": {
      "text/html": [
       "<div>\n",
       "<style scoped>\n",
       "    .dataframe tbody tr th:only-of-type {\n",
       "        vertical-align: middle;\n",
       "    }\n",
       "\n",
       "    .dataframe tbody tr th {\n",
       "        vertical-align: top;\n",
       "    }\n",
       "\n",
       "    .dataframe thead th {\n",
       "        text-align: right;\n",
       "    }\n",
       "</style>\n",
       "<table border=\"1\" class=\"dataframe\">\n",
       "  <thead>\n",
       "    <tr style=\"text-align: right;\">\n",
       "      <th></th>\n",
       "      <th>device_id</th>\n",
       "      <th>phone_brand</th>\n",
       "      <th>device_model</th>\n",
       "      <th>brand</th>\n",
       "      <th>model</th>\n",
       "    </tr>\n",
       "  </thead>\n",
       "  <tbody>\n",
       "    <tr>\n",
       "      <th>0</th>\n",
       "      <td>-8890648629457979026</td>\n",
       "      <td>小米</td>\n",
       "      <td>红米</td>\n",
       "      <td>51</td>\n",
       "      <td>858</td>\n",
       "    </tr>\n",
       "    <tr>\n",
       "      <th>1</th>\n",
       "      <td>1277779817574759137</td>\n",
       "      <td>小米</td>\n",
       "      <td>MI 2</td>\n",
       "      <td>51</td>\n",
       "      <td>843</td>\n",
       "    </tr>\n",
       "    <tr>\n",
       "      <th>2</th>\n",
       "      <td>5137427614288105724</td>\n",
       "      <td>三星</td>\n",
       "      <td>Galaxy S4</td>\n",
       "      <td>15</td>\n",
       "      <td>371</td>\n",
       "    </tr>\n",
       "    <tr>\n",
       "      <th>3</th>\n",
       "      <td>3669464369358936369</td>\n",
       "      <td>SUGAR</td>\n",
       "      <td>时尚手机</td>\n",
       "      <td>9</td>\n",
       "      <td>166</td>\n",
       "    </tr>\n",
       "    <tr>\n",
       "      <th>4</th>\n",
       "      <td>-5019277647504317457</td>\n",
       "      <td>三星</td>\n",
       "      <td>Galaxy Note 2</td>\n",
       "      <td>15</td>\n",
       "      <td>347</td>\n",
       "    </tr>\n",
       "    <tr>\n",
       "      <th>...</th>\n",
       "      <td>...</td>\n",
       "      <td>...</td>\n",
       "      <td>...</td>\n",
       "      <td>...</td>\n",
       "      <td>...</td>\n",
       "    </tr>\n",
       "    <tr>\n",
       "      <th>187239</th>\n",
       "      <td>3210973037848940984</td>\n",
       "      <td>小米</td>\n",
       "      <td>MI 2S</td>\n",
       "      <td>51</td>\n",
       "      <td>846</td>\n",
       "    </tr>\n",
       "    <tr>\n",
       "      <th>187240</th>\n",
       "      <td>7979541072208733273</td>\n",
       "      <td>小米</td>\n",
       "      <td>MI 4</td>\n",
       "      <td>51</td>\n",
       "      <td>848</td>\n",
       "    </tr>\n",
       "    <tr>\n",
       "      <th>187241</th>\n",
       "      <td>-187404680852357705</td>\n",
       "      <td>小米</td>\n",
       "      <td>红米2</td>\n",
       "      <td>51</td>\n",
       "      <td>860</td>\n",
       "    </tr>\n",
       "    <tr>\n",
       "      <th>187242</th>\n",
       "      <td>-2718274279595622821</td>\n",
       "      <td>小米</td>\n",
       "      <td>MI 3</td>\n",
       "      <td>51</td>\n",
       "      <td>847</td>\n",
       "    </tr>\n",
       "    <tr>\n",
       "      <th>187243</th>\n",
       "      <td>3098391762071677791</td>\n",
       "      <td>vivo</td>\n",
       "      <td>X1</td>\n",
       "      <td>13</td>\n",
       "      <td>220</td>\n",
       "    </tr>\n",
       "  </tbody>\n",
       "</table>\n",
       "<p>186716 rows × 5 columns</p>\n",
       "</div>"
      ],
      "text/plain": [
       "                  device_id phone_brand   device_model  brand  model\n",
       "0      -8890648629457979026          小米             红米     51    858\n",
       "1       1277779817574759137          小米           MI 2     51    843\n",
       "2       5137427614288105724          三星      Galaxy S4     15    371\n",
       "3       3669464369358936369       SUGAR           时尚手机      9    166\n",
       "4      -5019277647504317457          三星  Galaxy Note 2     15    347\n",
       "...                     ...         ...            ...    ...    ...\n",
       "187239  3210973037848940984          小米          MI 2S     51    846\n",
       "187240  7979541072208733273          小米           MI 4     51    848\n",
       "187241  -187404680852357705          小米            红米2     51    860\n",
       "187242 -2718274279595622821          小米           MI 3     51    847\n",
       "187243  3098391762071677791        vivo             X1     13    220\n",
       "\n",
       "[186716 rows x 5 columns]"
      ]
     },
     "execution_count": 75,
     "metadata": {},
     "output_type": "execute_result"
    }
   ],
   "source": [
    "phone"
   ]
  },
  {
   "cell_type": "markdown",
   "metadata": {},
   "source": [
    "### Brands and models popularity"
   ]
  },
  {
   "cell_type": "code",
   "execution_count": 76,
   "metadata": {
    "collapsed": false,
    "jupyter": {
     "outputs_hidden": false
    }
   },
   "outputs": [
    {
     "data": {
      "image/png": "[encoded data removed]",
      "text/plain": [
       "<Figure size 720x288 with 2 Axes>"
      ]
     },
     "metadata": {
      "needs_background": "light"
     },
     "output_type": "display_data"
    }
   ],
   "source": [
    "c = phone.brand.value_counts()\n",
    "s = c.cumsum()/c.sum()\n",
    "\n",
    "fig, (ax1,ax2) = plt.subplots(1,2,sharey=True,figsize=(10,4))\n",
    "ax1.plot(np.arange(s.shape[0])+1, s.values*100)\n",
    "ax1.set_xlim(0,30)\n",
    "ax1.set_xlabel('N most popular brands')\n",
    "ax1.set_title('% of devices');\n",
    "\n",
    "c = phone.model.value_counts()\n",
    "s = c.cumsum()/c.sum()\n",
    "ax2.plot(np.arange(s.shape[0])+1, s.values*100)\n",
    "ax2.set_xlim(0,400)\n",
    "ax2.set_xlabel('N most popular models')\n",
    "ax2.set_title('% of devices');"
   ]
  },
  {
   "cell_type": "markdown",
   "metadata": {},
   "source": [
    "9 most popular brands account for 90% of devices. For models the number to account for 90% of devices is 373.\n",
    "\n",
    "### Gender ratios by phone brand"
   ]
  },
  {
   "cell_type": "code",
   "execution_count": 77,
   "metadata": {
    "collapsed": false,
    "jupyter": {
     "outputs_hidden": false
    }
   },
   "outputs": [],
   "source": [
    "train = gatrain.merge(phone[['device_id','brand','model']], how='left',on='device_id')"
   ]
  },
  {
   "cell_type": "code",
   "execution_count": 78,
   "metadata": {
    "collapsed": false,
    "jupyter": {
     "outputs_hidden": false
    }
   },
   "outputs": [],
   "source": [
    "def plot_by(df, cat, by, perc = 0.95):\n",
    "    # Find popular categories\n",
    "    c = df[by].value_counts().cumsum()/df.shape[0]\n",
    "    take = c[c<=perc].index\n",
    "    # Pool rare categories into 'other' cat\n",
    "    gr = df[by].copy()\n",
    "    gr[~(df[by].isin(take))] = 'other'\n",
    "    # Count target classes in groups\n",
    "    c = df.groupby([gr,cat]).size().unstack().fillna(0)\n",
    "    total = c.sum(axis=1)\n",
    "    meanprobs = c.sum(axis=0).cumsum()/df.shape[0]\n",
    "    # Transform to probabilities\n",
    "    sortcol = c.columns[int(np.floor((c.shape[1]-1)/2))]\n",
    "    c = c.div(c.sum(axis=1), axis='index')\n",
    "    # Cumsum for stacked bars\n",
    "    c = c.cumsum(axis=1).sort_values(by=sortcol)\n",
    "    total = total.loc[c.index]\n",
    "    # Prepare plot data\n",
    "    left = np.array([0, *(total.iloc[:-1].cumsum().values)])\n",
    "    ticks = left + 0.5*total.values\n",
    "    colors = cm.rainbow(np.linspace(0.1,0.9,num=c.shape[1]))\n",
    "    fig, ax = plt.subplots(figsize=(10,5))\n",
    "    for (i,col) in enumerate(c.columns[::-1]):\n",
    "        height = c[col].values\n",
    "        ax.bar(left, height, total.values,label=col,color=colors[i],zorder = c.shape[0]+i)\n",
    "    for p in meanprobs.iloc[:-1]:\n",
    "        ax.hlines(p, 0, total.sum(),\n",
    "                  color='w',alpha=0.6,zorder=c.shape[0]*10,linewidth=1)\n",
    "    # legend placement needs more work\n",
    "    ax.legend(bbox_to_anchor=(1.1, 0.8),title=cat)\n",
    "    ax.set_xticks(ticks)\n",
    "    ax.set_xticklabels(total.index, rotation='vertical')\n",
    "    ax.set_xlabel(by)\n",
    "    ax.set_xlim(0,left[-1]+total.values[-1])\n",
    "    return ax"
   ]
  },
  {
   "cell_type": "markdown",
   "metadata": {},
   "source": [
    "Bar widths represent group counts, ratio of genders in each group is shown. The line represents overall genders ratio."
   ]
  },
  {
   "cell_type": "code",
   "execution_count": 79,
   "metadata": {
    "collapsed": false,
    "jupyter": {
     "outputs_hidden": false
    }
   },
   "outputs": [
    {
     "data": {
      "image/png": "[encoded data removed]",
      "text/plain": [
       "<Figure size 720x360 with 1 Axes>"
      ]
     },
     "metadata": {
      "needs_background": "light"
     },
     "output_type": "display_data"
    }
   ],
   "source": [
    "ax = plot_by(train, 'gender','brand')"
   ]
  },
  {
   "cell_type": "code",
   "execution_count": 44,
   "metadata": {
    "collapsed": false,
    "jupyter": {
     "outputs_hidden": false
    }
   },
   "outputs": [
    {
     "data": {
      "text/plain": [
       "array(['三星', 'OPPO', 'vivo'], dtype=object)"
      ]
     },
     "execution_count": 44,
     "metadata": {},
     "output_type": "execute_result"
    }
   ],
   "source": [
    "# brands preferred by female users\n",
    "lebrand.classes_[[15, 7, 13]]"
   ]
  },
  {
   "cell_type": "markdown",
   "metadata": {},
   "source": [
    "What about models?"
   ]
  },
  {
   "cell_type": "code",
   "execution_count": 45,
   "metadata": {
    "collapsed": false,
    "jupyter": {
     "outputs_hidden": false
    }
   },
   "outputs": [
    {
     "data": {
      "image/png": "[encoded data removed]",
      "text/plain": [
       "<Figure size 720x360 with 1 Axes>"
      ]
     },
     "metadata": {
      "needs_background": "light"
     },
     "output_type": "display_data"
    }
   ],
   "source": [
    "ax = plot_by(train, 'gender','model')"
   ]
  },
  {
   "cell_type": "markdown",
   "metadata": {},
   "source": [
    "Way too many device models here...\n",
    "\n",
    "### Age distributions by phone brand\n",
    "\n",
    "Color = gender\n"
   ]
  },
  {
   "cell_type": "code",
   "execution_count": 80,
   "metadata": {},
   "outputs": [
    {
     "data": {
      "text/plain": [
       "865    7343\n",
       "847    5699\n",
       "846    5301\n",
       "348    5010\n",
       "848    4788\n",
       "       ... \n",
       "820       1\n",
       "437       1\n",
       "566       1\n",
       "567       1\n",
       "0         1\n",
       "Name: model, Length: 1667, dtype: int64"
      ]
     },
     "execution_count": 80,
     "metadata": {},
     "output_type": "execute_result"
    }
   ],
   "source": [
    "c"
   ]
  },
  {
   "cell_type": "code",
   "execution_count": 81,
   "metadata": {
    "collapsed": false,
    "jupyter": {
     "outputs_hidden": false
    }
   },
   "outputs": [
    {
     "data": {
      "text/plain": [
       "<seaborn.axisgrid.FacetGrid at 0x261b4efbc40>"
      ]
     },
     "execution_count": 81,
     "metadata": {},
     "output_type": "execute_result"
    },
    {
     "data": {
      "image/png": "[encoded data removed]",
      "text/plain": [
       "<Figure size 864x648 with 6 Axes>"
      ]
     },
     "metadata": {
      "needs_background": "light"
     },
     "output_type": "display_data"
    }
   ],
   "source": [
    "brands = train.brand.value_counts().index[:6]\n",
    "c = train[train.brand.isin(brands)]\n",
    "g = sns.FacetGrid(c, hue='gender', col='brand',col_wrap=2, aspect=2, xlim=(15,60))\n",
    "g.map(sns.distplot, 'age', bins=np.arange(15,70)+0.5)"
   ]
  },
  {
   "cell_type": "markdown",
   "metadata": {},
   "source": [
    "Mostly look very similar.\n",
    "\n",
    "### Age distributions by phone model"
   ]
  },
  {
   "cell_type": "code",
   "execution_count": 82,
   "metadata": {
    "collapsed": false,
    "jupyter": {
     "outputs_hidden": false
    }
   },
   "outputs": [
    {
     "data": {
      "text/plain": [
       "<seaborn.axisgrid.FacetGrid at 0x261ae4addf0>"
      ]
     },
     "execution_count": 82,
     "metadata": {},
     "output_type": "execute_result"
    },
    {
     "data": {
      "image/png": "[encoded data removed]",
      "text/plain": [
       "<Figure size 864x648 with 6 Axes>"
      ]
     },
     "metadata": {
      "needs_background": "light"
     },
     "output_type": "display_data"
    }
   ],
   "source": [
    "models = train.model.value_counts().index[:6]\n",
    "c = train[train.model.isin(models)]\n",
    "g = sns.FacetGrid(c, hue='gender', col='model',col_wrap=2, aspect=2, xlim=(15,60))\n",
    "g.map(sns.distplot, 'age', bins=np.arange(15,70)+0.5)"
   ]
  },
  {
   "cell_type": "markdown",
   "metadata": {},
   "source": [
    "So do these.\n",
    "\n",
    "### Benchmark: predict gender from phone brand"
   ]
  },
  {
   "cell_type": "code",
   "execution_count": 83,
   "metadata": {
    "collapsed": false,
    "jupyter": {
     "outputs_hidden": false
    }
   },
   "outputs": [
    {
     "data": {
      "text/html": [
       "<div>\n",
       "<style scoped>\n",
       "    .dataframe tbody tr th:only-of-type {\n",
       "        vertical-align: middle;\n",
       "    }\n",
       "\n",
       "    .dataframe tbody tr th {\n",
       "        vertical-align: top;\n",
       "    }\n",
       "\n",
       "    .dataframe thead th {\n",
       "        text-align: right;\n",
       "    }\n",
       "</style>\n",
       "<table border=\"1\" class=\"dataframe\">\n",
       "  <thead>\n",
       "    <tr style=\"text-align: right;\">\n",
       "      <th></th>\n",
       "      <th>device_id</th>\n",
       "      <th>gender</th>\n",
       "      <th>age</th>\n",
       "      <th>group</th>\n",
       "      <th>brand</th>\n",
       "      <th>model</th>\n",
       "    </tr>\n",
       "  </thead>\n",
       "  <tbody>\n",
       "    <tr>\n",
       "      <th>0</th>\n",
       "      <td>-8076087639492063270</td>\n",
       "      <td>M</td>\n",
       "      <td>35</td>\n",
       "      <td>M32-38</td>\n",
       "      <td>51</td>\n",
       "      <td>843</td>\n",
       "    </tr>\n",
       "    <tr>\n",
       "      <th>1</th>\n",
       "      <td>-2897161552818060146</td>\n",
       "      <td>M</td>\n",
       "      <td>35</td>\n",
       "      <td>M32-38</td>\n",
       "      <td>51</td>\n",
       "      <td>843</td>\n",
       "    </tr>\n",
       "    <tr>\n",
       "      <th>2</th>\n",
       "      <td>-8260683887967679142</td>\n",
       "      <td>M</td>\n",
       "      <td>35</td>\n",
       "      <td>M32-38</td>\n",
       "      <td>51</td>\n",
       "      <td>843</td>\n",
       "    </tr>\n",
       "  </tbody>\n",
       "</table>\n",
       "</div>"
      ],
      "text/plain": [
       "             device_id gender  age   group  brand  model\n",
       "0 -8076087639492063270      M   35  M32-38     51    843\n",
       "1 -2897161552818060146      M   35  M32-38     51    843\n",
       "2 -8260683887967679142      M   35  M32-38     51    843"
      ]
     },
     "execution_count": 83,
     "metadata": {},
     "output_type": "execute_result"
    }
   ],
   "source": [
    "ptrain = gatrain.merge(phone[['device_id','brand','model']], how='left',on='device_id')\n",
    "ptrain.head(3)"
   ]
  },
  {
   "cell_type": "code",
   "execution_count": 51,
   "metadata": {
    "collapsed": false,
    "jupyter": {
     "outputs_hidden": false
    }
   },
   "outputs": [],
   "source": [
    "class GenderProb(object):\n",
    "    def __init__(self, prior_weight=10.):\n",
    "        self.prior_weight = prior_weight\n",
    "    \n",
    "    def fit(self, df, by):\n",
    "        self.by = by\n",
    "        self.label = 'pF_' + by\n",
    "        self.prior = (df['gender']=='F').mean()\n",
    "        # fit age groups\n",
    "        prob = train.groupby(['gender','group']).size()\n",
    "        pF = prob['F']/prob['F'].sum()\n",
    "        pM = prob['M']/prob['M'].sum()\n",
    "        self.agegroups = pd.concat((pF,pM),axis=0)\n",
    "        # fit gender probs by grouping column\n",
    "        c = (df[['gender']]=='F').groupby(df[by]).agg(['sum','count'])\n",
    "        s = c[('gender','sum')]\n",
    "        n = c[('gender','count')]\n",
    "        prob = (s + self.prior*self.prior_weight) / (n + self.prior_weight)\n",
    "        self.prob = pd.DataFrame(prob, columns=[self.label])\n",
    "        return self\n",
    "    \n",
    "    def predict_proba(self, df):\n",
    "        pF = df[[self.by]].merge(self.prob, how='left', \n",
    "                                left_on=self.by, right_index=True).fillna(self.prior)[self.label]\n",
    "        pF = np.reshape(pF.values,(pF.shape[0],1))\n",
    "        pred = np.zeros((df.shape[0],12))\n",
    "        pred += self.agegroups.values\n",
    "        pred[:,:6] *= pF\n",
    "        pred[:,6:] *= 1-pF\n",
    "        return pred"
   ]
  },
  {
   "cell_type": "code",
   "execution_count": 84,
   "metadata": {},
   "outputs": [
    {
     "data": {
      "text/html": [
       "<div>\n",
       "<style scoped>\n",
       "    .dataframe tbody tr th:only-of-type {\n",
       "        vertical-align: middle;\n",
       "    }\n",
       "\n",
       "    .dataframe tbody tr th {\n",
       "        vertical-align: top;\n",
       "    }\n",
       "\n",
       "    .dataframe thead th {\n",
       "        text-align: right;\n",
       "    }\n",
       "</style>\n",
       "<table border=\"1\" class=\"dataframe\">\n",
       "  <thead>\n",
       "    <tr style=\"text-align: right;\">\n",
       "      <th></th>\n",
       "      <th>device_id</th>\n",
       "      <th>gender</th>\n",
       "      <th>age</th>\n",
       "      <th>group</th>\n",
       "      <th>brand</th>\n",
       "      <th>model</th>\n",
       "    </tr>\n",
       "  </thead>\n",
       "  <tbody>\n",
       "    <tr>\n",
       "      <th>0</th>\n",
       "      <td>-8076087639492063270</td>\n",
       "      <td>M</td>\n",
       "      <td>35</td>\n",
       "      <td>M32-38</td>\n",
       "      <td>51</td>\n",
       "      <td>843</td>\n",
       "    </tr>\n",
       "    <tr>\n",
       "      <th>1</th>\n",
       "      <td>-2897161552818060146</td>\n",
       "      <td>M</td>\n",
       "      <td>35</td>\n",
       "      <td>M32-38</td>\n",
       "      <td>51</td>\n",
       "      <td>843</td>\n",
       "    </tr>\n",
       "    <tr>\n",
       "      <th>2</th>\n",
       "      <td>-8260683887967679142</td>\n",
       "      <td>M</td>\n",
       "      <td>35</td>\n",
       "      <td>M32-38</td>\n",
       "      <td>51</td>\n",
       "      <td>843</td>\n",
       "    </tr>\n",
       "    <tr>\n",
       "      <th>3</th>\n",
       "      <td>-4938849341048082022</td>\n",
       "      <td>M</td>\n",
       "      <td>30</td>\n",
       "      <td>M29-31</td>\n",
       "      <td>51</td>\n",
       "      <td>865</td>\n",
       "    </tr>\n",
       "    <tr>\n",
       "      <th>4</th>\n",
       "      <td>245133531816851882</td>\n",
       "      <td>M</td>\n",
       "      <td>30</td>\n",
       "      <td>M29-31</td>\n",
       "      <td>51</td>\n",
       "      <td>847</td>\n",
       "    </tr>\n",
       "    <tr>\n",
       "      <th>...</th>\n",
       "      <td>...</td>\n",
       "      <td>...</td>\n",
       "      <td>...</td>\n",
       "      <td>...</td>\n",
       "      <td>...</td>\n",
       "      <td>...</td>\n",
       "    </tr>\n",
       "    <tr>\n",
       "      <th>74640</th>\n",
       "      <td>4682031842235089751</td>\n",
       "      <td>M</td>\n",
       "      <td>30</td>\n",
       "      <td>M29-31</td>\n",
       "      <td>51</td>\n",
       "      <td>847</td>\n",
       "    </tr>\n",
       "    <tr>\n",
       "      <th>74641</th>\n",
       "      <td>-9178703742877135986</td>\n",
       "      <td>M</td>\n",
       "      <td>30</td>\n",
       "      <td>M29-31</td>\n",
       "      <td>51</td>\n",
       "      <td>847</td>\n",
       "    </tr>\n",
       "    <tr>\n",
       "      <th>74642</th>\n",
       "      <td>180946546684162312</td>\n",
       "      <td>M</td>\n",
       "      <td>20</td>\n",
       "      <td>M22-</td>\n",
       "      <td>51</td>\n",
       "      <td>865</td>\n",
       "    </tr>\n",
       "    <tr>\n",
       "      <th>74643</th>\n",
       "      <td>1390702386071991851</td>\n",
       "      <td>M</td>\n",
       "      <td>37</td>\n",
       "      <td>M32-38</td>\n",
       "      <td>31</td>\n",
       "      <td>622</td>\n",
       "    </tr>\n",
       "    <tr>\n",
       "      <th>74644</th>\n",
       "      <td>89181010588227347</td>\n",
       "      <td>M</td>\n",
       "      <td>25</td>\n",
       "      <td>M23-26</td>\n",
       "      <td>51</td>\n",
       "      <td>846</td>\n",
       "    </tr>\n",
       "  </tbody>\n",
       "</table>\n",
       "<p>74645 rows × 6 columns</p>\n",
       "</div>"
      ],
      "text/plain": [
       "                 device_id gender  age   group  brand  model\n",
       "0     -8076087639492063270      M   35  M32-38     51    843\n",
       "1     -2897161552818060146      M   35  M32-38     51    843\n",
       "2     -8260683887967679142      M   35  M32-38     51    843\n",
       "3     -4938849341048082022      M   30  M29-31     51    865\n",
       "4       245133531816851882      M   30  M29-31     51    847\n",
       "...                    ...    ...  ...     ...    ...    ...\n",
       "74640  4682031842235089751      M   30  M29-31     51    847\n",
       "74641 -9178703742877135986      M   30  M29-31     51    847\n",
       "74642   180946546684162312      M   20    M22-     51    865\n",
       "74643  1390702386071991851      M   37  M32-38     31    622\n",
       "74644    89181010588227347      M   25  M23-26     51    846\n",
       "\n",
       "[74645 rows x 6 columns]"
      ]
     },
     "execution_count": 84,
     "metadata": {},
     "output_type": "execute_result"
    }
   ],
   "source": [
    "ptrain"
   ]
  },
  {
   "cell_type": "code",
   "execution_count": 87,
   "metadata": {},
   "outputs": [
    {
     "data": {
      "text/plain": [
       "(array([    0,     1,     2, ..., 74642, 74643, 74644]), array([10685]))"
      ]
     },
     "execution_count": 87,
     "metadata": {},
     "output_type": "execute_result"
    }
   ],
   "source": [
    "kf = KFold(ptrain.shape[0], n_splits=10, shuffle=True, random_state=0)\n",
    "next(kf.split(ptrain), None)"
   ]
  },
  {
   "cell_type": "code",
   "execution_count": null,
   "metadata": {
    "collapsed": false,
    "jupyter": {
     "outputs_hidden": false
    }
   },
   "outputs": [],
   "source": [
    "kf = KFold(ptrain.shape[0], n_splits=10, shuffle=True, random_state=0)\n",
    "pred = np.zeros((ptrain.shape[0],n_classes))\n",
    "for itrain, itest in kf.split(ptrain):\n",
    "    train = ptrain.iloc[itrain,:]\n",
    "    test = ptrain.iloc[itest,:]\n",
    "    ytrain, ytest = y[itrain], y[itest]\n",
    "    clf = GenderProb().fit(train,'brand')\n",
    "    pred[itest,:] = clf.predict_proba(test)\n",
    "print(log_loss(y, pred))"
   ]
  },
  {
   "cell_type": "markdown",
   "metadata": {},
   "source": [
    "Wrap the scoring in a function to try different values for prior_weight."
   ]
  },
  {
   "cell_type": "code",
   "execution_count": null,
   "metadata": {
    "collapsed": false,
    "jupyter": {
     "outputs_hidden": false
    }
   },
   "outputs": [],
   "source": [
    "def score(ptrain, by, prior_weight=10.):\n",
    "    kf = KFold(ptrain.shape[0], n_folds=10, shuffle=True, random_state=0)\n",
    "    pred = np.zeros((ptrain.shape[0],n_classes))\n",
    "    for itrain, itest in kf:\n",
    "        train = ptrain.iloc[itrain,:]\n",
    "        test = ptrain.iloc[itest,:]\n",
    "        ytrain, ytest = y[itrain], y[itest]\n",
    "        clf = GenderProb(prior_weight=prior_weight).fit(train,by)\n",
    "        pred[itest,:] = clf.predict_proba(test)\n",
    "    return log_loss(y, pred)"
   ]
  },
  {
   "cell_type": "code",
   "execution_count": null,
   "metadata": {
    "collapsed": false,
    "jupyter": {
     "outputs_hidden": false
    }
   },
   "outputs": [],
   "source": [
    "weights = [0.1, 0.5, 1., 5., 10., 20.,40.]\n",
    "res = [score(ptrain,'brand',prior_weight=w) for w in weights]\n",
    "plt.plot(weights, res)\n",
    "plt.title('Best score {:.5f} at prior_weight = {}'.format(np.min(res),weights[np.argmin(res)]))\n",
    "plt.xlabel('prior_weight')"
   ]
  },
  {
   "cell_type": "markdown",
   "metadata": {},
   "source": [
    "### Benchmark: predict gender from device model"
   ]
  },
  {
   "cell_type": "code",
   "execution_count": null,
   "metadata": {
    "collapsed": false,
    "jupyter": {
     "outputs_hidden": false
    }
   },
   "outputs": [],
   "source": [
    "weights = [0.1, 0.5, 1., 5., 10., 20.,40.]\n",
    "res = [score(ptrain,'model',prior_weight=w) for w in weights]\n",
    "plt.plot(weights, res)\n",
    "plt.title('Best score {:.5f} at prior_weight = {}'.format(np.min(res),weights[np.argmin(res)]))\n",
    "plt.xlabel('prior_weight')"
   ]
  },
  {
   "cell_type": "markdown",
   "metadata": {},
   "source": [
    "An improvement of about 0.01 when going from predicting class probabilities to predicting gender based on device model.\n",
    "\n",
    "### Benchmark: predict gender-age group from phone brand"
   ]
  },
  {
   "cell_type": "code",
   "execution_count": null,
   "metadata": {
    "collapsed": false,
    "jupyter": {
     "outputs_hidden": false
    }
   },
   "outputs": [],
   "source": [
    "class GenderAgeGroupProb(object):\n",
    "    def __init__(self, prior_weight=10.):\n",
    "        self.prior_weight = prior_weight\n",
    "    \n",
    "    def fit(self, df, by):\n",
    "        self.by = by\n",
    "        #self.label = 'pF_' + by\n",
    "        self.prior = df['group'].value_counts().sort_index()/df.shape[0]\n",
    "        # fit gender probs by grouping column\n",
    "        c = df.groupby([by, 'group']).size().unstack().fillna(0)\n",
    "        total = c.sum(axis=1)\n",
    "        self.prob = (c.add(self.prior_weight*self.prior)).div(c.sum(axis=1)+self.prior_weight, axis=0)\n",
    "        return self\n",
    "    \n",
    "    def predict_proba(self, df):\n",
    "        pred = df[[self.by]].merge(self.prob, how='left', \n",
    "                                left_on=self.by, right_index=True).fillna(self.prior)[self.prob.columns]\n",
    "        pred.loc[pred.iloc[:,0].isnull(),:] = self.prior\n",
    "        return pred.values\n",
    "    \n",
    "def score(ptrain, by, prior_weight=10.):\n",
    "    kf = KFold(ptrain.shape[0], n_folds=10, shuffle=True, random_state=0)\n",
    "    pred = np.zeros((ptrain.shape[0],n_classes))\n",
    "    for itrain, itest in kf:\n",
    "        train = ptrain.iloc[itrain,:]\n",
    "        test = ptrain.iloc[itest,:]\n",
    "        ytrain, ytest = y[itrain], y[itest]\n",
    "        clf = GenderAgeGroupProb(prior_weight=prior_weight).fit(train,by)\n",
    "        pred[itest,:] = clf.predict_proba(test)\n",
    "    return log_loss(y, pred)"
   ]
  },
  {
   "cell_type": "code",
   "execution_count": null,
   "metadata": {
    "collapsed": false,
    "jupyter": {
     "outputs_hidden": false
    }
   },
   "outputs": [],
   "source": [
    "weights = [0.5, 1., 5., 10., 20.,40.,100.]\n",
    "res = [score(ptrain,'brand',prior_weight=w) for w in weights]\n",
    "plt.plot(weights, res)\n",
    "plt.title('Best score {:.5f} at prior_weight = {}'.format(np.min(res),weights[np.argmin(res)]))\n",
    "plt.xlabel('prior_weight')"
   ]
  },
  {
   "cell_type": "markdown",
   "metadata": {},
   "source": [
    "### Benchmark: predict gender-age group from device model"
   ]
  },
  {
   "cell_type": "code",
   "execution_count": null,
   "metadata": {
    "collapsed": false,
    "jupyter": {
     "outputs_hidden": false
    }
   },
   "outputs": [],
   "source": [
    "weights = [0.5, 1., 5., 10., 20.,40.,100.]\n",
    "res = [score(ptrain,'model',prior_weight=w) for w in weights]\n",
    "plt.plot(weights, res)\n",
    "plt.title('Best score {:.5f} at prior_weight = {}'.format(np.min(res),weights[np.argmin(res)]))\n",
    "plt.xlabel('prior_weight')"
   ]
  },
  {
   "cell_type": "markdown",
   "metadata": {},
   "source": [
    "What if we combine predictions from phone brand and device model?"
   ]
  },
  {
   "cell_type": "code",
   "execution_count": null,
   "metadata": {
    "collapsed": false,
    "jupyter": {
     "outputs_hidden": false
    }
   },
   "outputs": [],
   "source": [
    "kf = KFold(ptrain.shape[0], n_folds=10, shuffle=True, random_state=0)\n",
    "predb = np.zeros((ptrain.shape[0],n_classes))\n",
    "predm = np.zeros((ptrain.shape[0],n_classes))\n",
    "for itrain, itest in kf:\n",
    "    train = ptrain.iloc[itrain,:]\n",
    "    test = ptrain.iloc[itest,:]\n",
    "    ytrain, ytest = y[itrain], y[itest]\n",
    "    clf = GenderAgeGroupProb(prior_weight=40.).fit(train,'brand')\n",
    "    predb[itest,:] = clf.predict_proba(test)\n",
    "    clf = GenderAgeGroupProb(prior_weight=40.).fit(train,'model')\n",
    "    predm[itest,:] = clf.predict_proba(test)\n",
    "log_loss(y, 0.5*(predb+predm))"
   ]
  },
  {
   "cell_type": "markdown",
   "metadata": {},
   "source": [
    "Down ot 2.391.\n",
    "\n",
    "## Make a submission"
   ]
  },
  {
   "cell_type": "code",
   "execution_count": null,
   "metadata": {
    "collapsed": false,
    "jupyter": {
     "outputs_hidden": false
    }
   },
   "outputs": [],
   "source": [
    "ptest = gatest.merge(phone[['device_id','brand','model']], how='left',on='device_id')\n",
    "ptest.head(3)"
   ]
  },
  {
   "cell_type": "code",
   "execution_count": null,
   "metadata": {
    "collapsed": false,
    "jupyter": {
     "outputs_hidden": false
    }
   },
   "outputs": [],
   "source": [
    "clf = GenderAgeGroupProb(prior_weight=40.).fit(ptrain,'brand')\n",
    "predb = clf.predict_proba(ptest)\n",
    "clf = GenderAgeGroupProb(prior_weight=40.).fit(ptrain,'model')\n",
    "predm = clf.predict_proba(ptest)"
   ]
  },
  {
   "cell_type": "code",
   "execution_count": null,
   "metadata": {
    "collapsed": false,
    "jupyter": {
     "outputs_hidden": false
    }
   },
   "outputs": [],
   "source": [
    "pd.DataFrame(0.5*(predb+predm), \n",
    "             index = ptest.device_id, \n",
    "             columns=letarget.classes_).to_csv('pbm_subm.csv', index=True)"
   ]
  }
 ],
 "metadata": {
  "kernelspec": {
   "display_name": "Python 3",
   "language": "python",
   "name": "python3"
  },
  "language_info": {
   "codemirror_mode": {
    "name": "ipython",
    "version": 3
   },
   "file_extension": ".py",
   "mimetype": "text/x-python",
   "name": "python",
   "nbconvert_exporter": "python",
   "pygments_lexer": "ipython3",
   "version": "3.8.5"
  }
 },
 "nbformat": 4,
 "nbformat_minor": 4
}
