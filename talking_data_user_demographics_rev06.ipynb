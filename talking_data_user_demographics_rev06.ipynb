{
 "cells": [
  {
   "cell_type": "code",
   "execution_count": 1,
   "metadata": {},
   "outputs": [],
   "source": [
    "import os\n",
    "import glob\n",
    "import pandas as pd\n",
    "import numpy as np\n",
    "import matplotlib.pyplot as plt\n",
    "import seaborn as sns\n",
    "import datetime\n",
    "from sklearn.model_selection import train_test_split\n",
    "from sklearn.preprocessing import LabelEncoder\n",
    "import tensorflow as tf\n",
    "from tensorflow.keras import layers"
   ]
  },
  {
   "cell_type": "markdown",
   "metadata": {},
   "source": [
    "## Load Data\n",
    "Define a function that imports all the data from the provided csv files"
   ]
  },
  {
   "cell_type": "code",
   "execution_count": 2,
   "metadata": {},
   "outputs": [],
   "source": [
    "csv_paths = glob.glob(\"data/*.csv\")\n",
    "csv_filenames = [os.path.splitext(os.path.basename(x))[0] for x in csv_paths]\n",
    "\n",
    "def load_data_from_csv():\n",
    "    \"\"\"Loads the csv files to pandas DataFrames and saves\n",
    "    them in a dictionary with their filenames as keys\"\"\"\n",
    "    data = dict()\n",
    "    for csv_filename, csv_path in zip(csv_filenames, csv_paths):\n",
    "        data[csv_filename] = pd.read_csv(csv_path)\n",
    "    return data\n",
    "\n",
    "# Load the data to a Dictionary\n",
    "data = load_data_from_csv()"
   ]
  },
  {
   "cell_type": "markdown",
   "metadata": {},
   "source": [
    "Inspect the data, the schema is shown below:\n",
    "\n",
    "<img src=\"docs/schema.png\">"
   ]
  },
  {
   "cell_type": "markdown",
   "metadata": {},
   "source": [
    "First replace the chinese brands with their english names"
   ]
  },
  {
   "cell_type": "code",
   "execution_count": 3,
   "metadata": {},
   "outputs": [
    {
     "data": {
      "text/html": [
       "<div>\n",
       "<style scoped>\n",
       "    .dataframe tbody tr th:only-of-type {\n",
       "        vertical-align: middle;\n",
       "    }\n",
       "\n",
       "    .dataframe tbody tr th {\n",
       "        vertical-align: top;\n",
       "    }\n",
       "\n",
       "    .dataframe thead th {\n",
       "        text-align: right;\n",
       "    }\n",
       "</style>\n",
       "<table border=\"1\" class=\"dataframe\">\n",
       "  <thead>\n",
       "    <tr style=\"text-align: right;\">\n",
       "      <th></th>\n",
       "      <th>device_id</th>\n",
       "      <th>brand</th>\n",
       "      <th>device_model</th>\n",
       "    </tr>\n",
       "  </thead>\n",
       "  <tbody>\n",
       "    <tr>\n",
       "      <th>0</th>\n",
       "      <td>-8890648629457979026</td>\n",
       "      <td>xiaomi</td>\n",
       "      <td>红米</td>\n",
       "    </tr>\n",
       "    <tr>\n",
       "      <th>1</th>\n",
       "      <td>1277779817574759137</td>\n",
       "      <td>xiaomi</td>\n",
       "      <td>MI 2</td>\n",
       "    </tr>\n",
       "    <tr>\n",
       "      <th>2</th>\n",
       "      <td>5137427614288105724</td>\n",
       "      <td>samsung</td>\n",
       "      <td>Galaxy S4</td>\n",
       "    </tr>\n",
       "    <tr>\n",
       "      <th>3</th>\n",
       "      <td>3669464369358936369</td>\n",
       "      <td>SUGAR</td>\n",
       "      <td>时尚手机</td>\n",
       "    </tr>\n",
       "    <tr>\n",
       "      <th>4</th>\n",
       "      <td>-5019277647504317457</td>\n",
       "      <td>samsung</td>\n",
       "      <td>Galaxy Note 2</td>\n",
       "    </tr>\n",
       "    <tr>\n",
       "      <th>...</th>\n",
       "      <td>...</td>\n",
       "      <td>...</td>\n",
       "      <td>...</td>\n",
       "    </tr>\n",
       "    <tr>\n",
       "      <th>187240</th>\n",
       "      <td>7979541072208733273</td>\n",
       "      <td>xiaomi</td>\n",
       "      <td>MI 4</td>\n",
       "    </tr>\n",
       "    <tr>\n",
       "      <th>187241</th>\n",
       "      <td>-187404680852357705</td>\n",
       "      <td>xiaomi</td>\n",
       "      <td>红米2</td>\n",
       "    </tr>\n",
       "    <tr>\n",
       "      <th>187242</th>\n",
       "      <td>-2718274279595622821</td>\n",
       "      <td>xiaomi</td>\n",
       "      <td>MI 3</td>\n",
       "    </tr>\n",
       "    <tr>\n",
       "      <th>187243</th>\n",
       "      <td>3098391762071677791</td>\n",
       "      <td>vivo</td>\n",
       "      <td>X1</td>\n",
       "    </tr>\n",
       "    <tr>\n",
       "      <th>187244</th>\n",
       "      <td>7540390258631417003</td>\n",
       "      <td>vivo</td>\n",
       "      <td>Y22L</td>\n",
       "    </tr>\n",
       "  </tbody>\n",
       "</table>\n",
       "<p>187245 rows × 3 columns</p>\n",
       "</div>"
      ],
      "text/plain": [
       "                  device_id    brand   device_model\n",
       "0      -8890648629457979026   xiaomi             红米\n",
       "1       1277779817574759137   xiaomi           MI 2\n",
       "2       5137427614288105724  samsung      Galaxy S4\n",
       "3       3669464369358936369    SUGAR           时尚手机\n",
       "4      -5019277647504317457  samsung  Galaxy Note 2\n",
       "...                     ...      ...            ...\n",
       "187240  7979541072208733273   xiaomi           MI 4\n",
       "187241  -187404680852357705   xiaomi            红米2\n",
       "187242 -2718274279595622821   xiaomi           MI 3\n",
       "187243  3098391762071677791     vivo             X1\n",
       "187244  7540390258631417003     vivo           Y22L\n",
       "\n",
       "[187245 rows x 3 columns]"
      ]
     },
     "execution_count": 3,
     "metadata": {},
     "output_type": "execute_result"
    }
   ],
   "source": [
    "# Join chinese brand names to their english equivalents\n",
    "phone_brand_device_model = pd.merge(data[\"phone_brand_device_model\"],\n",
    "                                    data[\"chinese_to_english_brand\"],\n",
    "                                    left_on=\"phone_brand\", right_on=\"chinese_brand\", how=\"left\")\n",
    "\n",
    "# Fill nans for brands already in english\n",
    "phone_brand_device_model[\"brand\"] =\\\n",
    "    phone_brand_device_model[\"brand\"].where(phone_brand_device_model[\"brand\"].str.isalpha(),\n",
    "                                                    phone_brand_device_model[\"phone_brand\"].str.lower())\n",
    "\n",
    "# We will just work with device brand and model for the time being\n",
    "device_data = phone_brand_device_model[[\"device_id\", \"brand\", \"device_model\"]]\n",
    "device_data"
   ]
  },
  {
   "cell_type": "markdown",
   "metadata": {},
   "source": [
    "We can encode the brand and device model data"
   ]
  },
  {
   "cell_type": "code",
   "execution_count": 4,
   "metadata": {},
   "outputs": [
    {
     "name": "stderr",
     "output_type": "stream",
     "text": [
      "<ipython-input-4-09855a868b17>:3: SettingWithCopyWarning: \n",
      "A value is trying to be set on a copy of a slice from a DataFrame.\n",
      "Try using .loc[row_indexer,col_indexer] = value instead\n",
      "\n",
      "See the caveats in the documentation: https://pandas.pydata.org/pandas-docs/stable/user_guide/indexing.html#returning-a-view-versus-a-copy\n",
      "  device_data[\"encoded_brand_model\"] = encoder.transform(device_data[\"brand\"] + \" \" + device_data[\"device_model\"])\n"
     ]
    },
    {
     "data": {
      "text/html": [
       "<div>\n",
       "<style scoped>\n",
       "    .dataframe tbody tr th:only-of-type {\n",
       "        vertical-align: middle;\n",
       "    }\n",
       "\n",
       "    .dataframe tbody tr th {\n",
       "        vertical-align: top;\n",
       "    }\n",
       "\n",
       "    .dataframe thead th {\n",
       "        text-align: right;\n",
       "    }\n",
       "</style>\n",
       "<table border=\"1\" class=\"dataframe\">\n",
       "  <thead>\n",
       "    <tr style=\"text-align: right;\">\n",
       "      <th></th>\n",
       "      <th>device_id</th>\n",
       "      <th>brand</th>\n",
       "      <th>device_model</th>\n",
       "      <th>encoded_brand_model</th>\n",
       "    </tr>\n",
       "  </thead>\n",
       "  <tbody>\n",
       "    <tr>\n",
       "      <th>123784</th>\n",
       "      <td>5014627883795280526</td>\n",
       "      <td>AUX</td>\n",
       "      <td>V965T</td>\n",
       "      <td>0</td>\n",
       "    </tr>\n",
       "    <tr>\n",
       "      <th>71804</th>\n",
       "      <td>-231815432814429273</td>\n",
       "      <td>AUX</td>\n",
       "      <td>V965T</td>\n",
       "      <td>0</td>\n",
       "    </tr>\n",
       "    <tr>\n",
       "      <th>67660</th>\n",
       "      <td>-4567000646686758042</td>\n",
       "      <td>AUX</td>\n",
       "      <td>V965T</td>\n",
       "      <td>0</td>\n",
       "    </tr>\n",
       "    <tr>\n",
       "      <th>75906</th>\n",
       "      <td>8567026160899753334</td>\n",
       "      <td>AUX</td>\n",
       "      <td>V965T</td>\n",
       "      <td>0</td>\n",
       "    </tr>\n",
       "    <tr>\n",
       "      <th>34250</th>\n",
       "      <td>5489607796787403797</td>\n",
       "      <td>AUX</td>\n",
       "      <td>V965T</td>\n",
       "      <td>0</td>\n",
       "    </tr>\n",
       "    <tr>\n",
       "      <th>...</th>\n",
       "      <td>...</td>\n",
       "      <td>...</td>\n",
       "      <td>...</td>\n",
       "      <td>...</td>\n",
       "    </tr>\n",
       "    <tr>\n",
       "      <th>144356</th>\n",
       "      <td>-2217351983095398459</td>\n",
       "      <td>首云</td>\n",
       "      <td>P1</td>\n",
       "      <td>1664</td>\n",
       "    </tr>\n",
       "    <tr>\n",
       "      <th>163118</th>\n",
       "      <td>-1527969048433963834</td>\n",
       "      <td>首云</td>\n",
       "      <td>P1</td>\n",
       "      <td>1664</td>\n",
       "    </tr>\n",
       "    <tr>\n",
       "      <th>98617</th>\n",
       "      <td>-6315989391792706778</td>\n",
       "      <td>鲜米</td>\n",
       "      <td>S970</td>\n",
       "      <td>1665</td>\n",
       "    </tr>\n",
       "    <tr>\n",
       "      <th>26395</th>\n",
       "      <td>7388463854850737017</td>\n",
       "      <td>鲜米</td>\n",
       "      <td>s800</td>\n",
       "      <td>1666</td>\n",
       "    </tr>\n",
       "    <tr>\n",
       "      <th>61177</th>\n",
       "      <td>1751236410718403505</td>\n",
       "      <td>鲜米</td>\n",
       "      <td>s800</td>\n",
       "      <td>1666</td>\n",
       "    </tr>\n",
       "  </tbody>\n",
       "</table>\n",
       "<p>187245 rows × 4 columns</p>\n",
       "</div>"
      ],
      "text/plain": [
       "                  device_id brand device_model  encoded_brand_model\n",
       "123784  5014627883795280526   AUX        V965T                    0\n",
       "71804   -231815432814429273   AUX        V965T                    0\n",
       "67660  -4567000646686758042   AUX        V965T                    0\n",
       "75906   8567026160899753334   AUX        V965T                    0\n",
       "34250   5489607796787403797   AUX        V965T                    0\n",
       "...                     ...   ...          ...                  ...\n",
       "144356 -2217351983095398459    首云           P1                 1664\n",
       "163118 -1527969048433963834    首云           P1                 1664\n",
       "98617  -6315989391792706778    鲜米         S970                 1665\n",
       "26395   7388463854850737017    鲜米         s800                 1666\n",
       "61177   1751236410718403505    鲜米         s800                 1666\n",
       "\n",
       "[187245 rows x 4 columns]"
      ]
     },
     "execution_count": 4,
     "metadata": {},
     "output_type": "execute_result"
    }
   ],
   "source": [
    "encoder = LabelEncoder().fit(device_data[\"brand\"] + \" \" + device_data[\"device_model\"])\n",
    "\n",
    "device_data[\"encoded_brand_model\"] = encoder.transform(device_data[\"brand\"] + \" \" + device_data[\"device_model\"])\n",
    "\n",
    "device_data.sort_values(by=[\"encoded_brand_model\"])"
   ]
  },
  {
   "cell_type": "code",
   "execution_count": 5,
   "metadata": {},
   "outputs": [
    {
     "name": "stdout",
     "output_type": "stream",
     "text": [
      "There are 186716 unique devices in the device data\n",
      "186716\n"
     ]
    }
   ],
   "source": [
    "print(f'There are {len(device_data[\"device_id\"].unique())} unique devices in the device data')\n",
    "# Get rid of duplicates in the device data\n",
    "device_data_cln = device_data.drop_duplicates(\"device_id\")\n",
    "print(len(device_data_cln))"
   ]
  },
  {
   "cell_type": "markdown",
   "metadata": {},
   "source": [
    "We'll proceed to join the device brand data to the train data"
   ]
  },
  {
   "cell_type": "code",
   "execution_count": 6,
   "metadata": {},
   "outputs": [
    {
     "name": "stdout",
     "output_type": "stream",
     "text": [
      "74645\n"
     ]
    },
    {
     "data": {
      "text/html": [
       "<div>\n",
       "<style scoped>\n",
       "    .dataframe tbody tr th:only-of-type {\n",
       "        vertical-align: middle;\n",
       "    }\n",
       "\n",
       "    .dataframe tbody tr th {\n",
       "        vertical-align: top;\n",
       "    }\n",
       "\n",
       "    .dataframe thead th {\n",
       "        text-align: right;\n",
       "    }\n",
       "</style>\n",
       "<table border=\"1\" class=\"dataframe\">\n",
       "  <thead>\n",
       "    <tr style=\"text-align: right;\">\n",
       "      <th></th>\n",
       "      <th>device_id</th>\n",
       "      <th>gender</th>\n",
       "      <th>age</th>\n",
       "      <th>group</th>\n",
       "      <th>brand</th>\n",
       "      <th>device_model</th>\n",
       "      <th>encoded_brand_model</th>\n",
       "    </tr>\n",
       "  </thead>\n",
       "  <tbody>\n",
       "    <tr>\n",
       "      <th>0</th>\n",
       "      <td>-8076087639492063270</td>\n",
       "      <td>M</td>\n",
       "      <td>35</td>\n",
       "      <td>M32-38</td>\n",
       "      <td>xiaomi</td>\n",
       "      <td>MI 2</td>\n",
       "      <td>1565</td>\n",
       "    </tr>\n",
       "    <tr>\n",
       "      <th>1</th>\n",
       "      <td>-2897161552818060146</td>\n",
       "      <td>M</td>\n",
       "      <td>35</td>\n",
       "      <td>M32-38</td>\n",
       "      <td>xiaomi</td>\n",
       "      <td>MI 2</td>\n",
       "      <td>1565</td>\n",
       "    </tr>\n",
       "    <tr>\n",
       "      <th>2</th>\n",
       "      <td>-8260683887967679142</td>\n",
       "      <td>M</td>\n",
       "      <td>35</td>\n",
       "      <td>M32-38</td>\n",
       "      <td>xiaomi</td>\n",
       "      <td>MI 2</td>\n",
       "      <td>1565</td>\n",
       "    </tr>\n",
       "    <tr>\n",
       "      <th>3</th>\n",
       "      <td>-4938849341048082022</td>\n",
       "      <td>M</td>\n",
       "      <td>30</td>\n",
       "      <td>M29-31</td>\n",
       "      <td>xiaomi</td>\n",
       "      <td>红米note</td>\n",
       "      <td>1587</td>\n",
       "    </tr>\n",
       "    <tr>\n",
       "      <th>4</th>\n",
       "      <td>245133531816851882</td>\n",
       "      <td>M</td>\n",
       "      <td>30</td>\n",
       "      <td>M29-31</td>\n",
       "      <td>xiaomi</td>\n",
       "      <td>MI 3</td>\n",
       "      <td>1569</td>\n",
       "    </tr>\n",
       "    <tr>\n",
       "      <th>...</th>\n",
       "      <td>...</td>\n",
       "      <td>...</td>\n",
       "      <td>...</td>\n",
       "      <td>...</td>\n",
       "      <td>...</td>\n",
       "      <td>...</td>\n",
       "      <td>...</td>\n",
       "    </tr>\n",
       "    <tr>\n",
       "      <th>74640</th>\n",
       "      <td>4682031842235089751</td>\n",
       "      <td>M</td>\n",
       "      <td>30</td>\n",
       "      <td>M29-31</td>\n",
       "      <td>xiaomi</td>\n",
       "      <td>MI 3</td>\n",
       "      <td>1569</td>\n",
       "    </tr>\n",
       "    <tr>\n",
       "      <th>74641</th>\n",
       "      <td>-9178703742877135986</td>\n",
       "      <td>M</td>\n",
       "      <td>30</td>\n",
       "      <td>M29-31</td>\n",
       "      <td>xiaomi</td>\n",
       "      <td>MI 3</td>\n",
       "      <td>1569</td>\n",
       "    </tr>\n",
       "    <tr>\n",
       "      <th>74642</th>\n",
       "      <td>180946546684162312</td>\n",
       "      <td>M</td>\n",
       "      <td>20</td>\n",
       "      <td>M22-</td>\n",
       "      <td>xiaomi</td>\n",
       "      <td>红米note</td>\n",
       "      <td>1587</td>\n",
       "    </tr>\n",
       "    <tr>\n",
       "      <th>74643</th>\n",
       "      <td>1390702386071991851</td>\n",
       "      <td>M</td>\n",
       "      <td>37</td>\n",
       "      <td>M32-38</td>\n",
       "      <td>huawei</td>\n",
       "      <td>Ascend P8</td>\n",
       "      <td>873</td>\n",
       "    </tr>\n",
       "    <tr>\n",
       "      <th>74644</th>\n",
       "      <td>89181010588227347</td>\n",
       "      <td>M</td>\n",
       "      <td>25</td>\n",
       "      <td>M23-26</td>\n",
       "      <td>xiaomi</td>\n",
       "      <td>MI 2S</td>\n",
       "      <td>1568</td>\n",
       "    </tr>\n",
       "  </tbody>\n",
       "</table>\n",
       "<p>74645 rows × 7 columns</p>\n",
       "</div>"
      ],
      "text/plain": [
       "                 device_id gender  age   group   brand device_model  \\\n",
       "0     -8076087639492063270      M   35  M32-38  xiaomi         MI 2   \n",
       "1     -2897161552818060146      M   35  M32-38  xiaomi         MI 2   \n",
       "2     -8260683887967679142      M   35  M32-38  xiaomi         MI 2   \n",
       "3     -4938849341048082022      M   30  M29-31  xiaomi       红米note   \n",
       "4       245133531816851882      M   30  M29-31  xiaomi         MI 3   \n",
       "...                    ...    ...  ...     ...     ...          ...   \n",
       "74640  4682031842235089751      M   30  M29-31  xiaomi         MI 3   \n",
       "74641 -9178703742877135986      M   30  M29-31  xiaomi         MI 3   \n",
       "74642   180946546684162312      M   20    M22-  xiaomi       红米note   \n",
       "74643  1390702386071991851      M   37  M32-38  huawei    Ascend P8   \n",
       "74644    89181010588227347      M   25  M23-26  xiaomi        MI 2S   \n",
       "\n",
       "       encoded_brand_model  \n",
       "0                     1565  \n",
       "1                     1565  \n",
       "2                     1565  \n",
       "3                     1587  \n",
       "4                     1569  \n",
       "...                    ...  \n",
       "74640                 1569  \n",
       "74641                 1569  \n",
       "74642                 1587  \n",
       "74643                  873  \n",
       "74644                 1568  \n",
       "\n",
       "[74645 rows x 7 columns]"
      ]
     },
     "execution_count": 6,
     "metadata": {},
     "output_type": "execute_result"
    }
   ],
   "source": [
    "combined_data = data[\"gender_age_train\"]\n",
    "print(len(combined_data))\n",
    "combined_data = pd.merge(combined_data, device_data_cln, on=\"device_id\", how=\"left\")\n",
    "combined_data"
   ]
  },
  {
   "cell_type": "markdown",
   "metadata": {},
   "source": [
    "# Approach 1"
   ]
  },
  {
   "cell_type": "markdown",
   "metadata": {},
   "source": [
    "Since most of the devices do not have event data we will first attempt to infer gender and age using only the device brand and model data"
   ]
  },
  {
   "cell_type": "code",
   "execution_count": 7,
   "metadata": {},
   "outputs": [
    {
     "name": "stderr",
     "output_type": "stream",
     "text": [
      "C:\\Users\\LONAA32\\Anaconda3\\envs\\tensorflow\\lib\\site-packages\\sklearn\\utils\\validation.py:72: DataConversionWarning: A column-vector y was passed when a 1d array was expected. Please change the shape of y to (n_samples, ), for example using ravel().\n",
      "  return f(**kwargs)\n"
     ]
    },
    {
     "data": {
      "text/plain": [
       "array([1, 1, 1, ..., 1, 1, 1])"
      ]
     },
     "execution_count": 7,
     "metadata": {},
     "output_type": "execute_result"
    }
   ],
   "source": [
    "FEATURE_COLUMNS = [\"encoded_brand_model\"]\n",
    "LABELS = [\"gender\"]\n",
    "\n",
    "# Prepare the labels\n",
    "y = combined_data[LABELS]\n",
    "#y = pd.get_dummies(y, prefix='', prefix_sep='')\n",
    "le = LabelEncoder()\n",
    "le.fit(y.to_numpy().ravel())\n",
    "y_enc = le.transform(y)\n",
    "y_enc"
   ]
  },
  {
   "cell_type": "code",
   "execution_count": 8,
   "metadata": {},
   "outputs": [
    {
     "data": {
      "text/plain": [
       "array([[0, 0, 0, ..., 0, 0, 0],\n",
       "       [0, 0, 0, ..., 0, 0, 0],\n",
       "       [0, 0, 0, ..., 0, 0, 0],\n",
       "       ...,\n",
       "       [0, 0, 0, ..., 0, 0, 0],\n",
       "       [0, 0, 0, ..., 0, 0, 0],\n",
       "       [0, 0, 0, ..., 0, 0, 0]], dtype=uint8)"
      ]
     },
     "execution_count": 8,
     "metadata": {},
     "output_type": "execute_result"
    }
   ],
   "source": [
    "# Prepare the features\n",
    "X = combined_data[FEATURE_COLUMNS]\n",
    "X = pd.get_dummies(X, columns=['encoded_brand_model'], prefix='', prefix_sep='')\n",
    "X_enc = X.to_numpy()\n",
    "X_enc"
   ]
  },
  {
   "cell_type": "markdown",
   "metadata": {},
   "source": [
    "#### Split dataset into train, validation and test sets."
   ]
  },
  {
   "cell_type": "code",
   "execution_count": 9,
   "metadata": {},
   "outputs": [
    {
     "name": "stdout",
     "output_type": "stream",
     "text": [
      "44787 train examples\n",
      "14929 validation examples\n",
      "14929 test examples\n"
     ]
    }
   ],
   "source": [
    "# Split into train and test set\n",
    "X_train, X_test, y_train, y_test = train_test_split(X_enc, y_enc, test_size=0.2, random_state=1)\n",
    "# Split into train set further into train and validation set\n",
    "X_train, X_val, y_train, y_val = train_test_split(X_train, y_train, test_size=0.25, random_state=1)\n",
    "print(len(X_train), 'train examples')\n",
    "print(len(X_val), 'validation examples')\n",
    "print(len(X_test), 'test examples')"
   ]
  },
  {
   "cell_type": "code",
   "execution_count": 10,
   "metadata": {},
   "outputs": [],
   "source": [
    "model = tf.keras.Sequential([\n",
    "  tf.keras.layers.Dense(1, activation=\"sigmoid\", input_shape=(1486,)),  # input shape required\n",
    "])"
   ]
  },
  {
   "cell_type": "code",
   "execution_count": 11,
   "metadata": {},
   "outputs": [
    {
     "data": {
      "text/plain": [
       "<tf.Tensor: shape=(5, 1), dtype=float32, numpy=\n",
       "array([[0.48567203],\n",
       "       [0.50921685],\n",
       "       [0.5031442 ],\n",
       "       [0.49872348],\n",
       "       [0.49589306]], dtype=float32)>"
      ]
     },
     "execution_count": 11,
     "metadata": {},
     "output_type": "execute_result"
    }
   ],
   "source": [
    "predictions = model(X_train)\n",
    "predictions[:5]"
   ]
  },
  {
   "cell_type": "code",
   "execution_count": 12,
   "metadata": {},
   "outputs": [
    {
     "data": {
      "text/plain": [
       "<tf.Tensor: shape=(5, 1), dtype=float32, numpy=\n",
       "array([[1.],\n",
       "       [1.],\n",
       "       [1.],\n",
       "       [1.],\n",
       "       [1.]], dtype=float32)>"
      ]
     },
     "execution_count": 12,
     "metadata": {},
     "output_type": "execute_result"
    }
   ],
   "source": [
    "tf.nn.softmax(predictions[:5])"
   ]
  },
  {
   "cell_type": "code",
   "execution_count": 22,
   "metadata": {},
   "outputs": [],
   "source": [
    "model.compile(loss=\"binary_crossentropy\", optimizer=\"rmsprop\", metrics=[\"accuracy\"])"
   ]
  },
  {
   "cell_type": "code",
   "execution_count": 23,
   "metadata": {},
   "outputs": [
    {
     "name": "stdout",
     "output_type": "stream",
     "text": [
      "Epoch 1/10\n",
      "1400/1400 [==============================] - 1s 966us/step - loss: 0.6488 - accuracy: 0.6409 - val_loss: 0.6631 - val_accuracy: 0.6227\n",
      "Epoch 2/10\n",
      "1400/1400 [==============================] - 1s 938us/step - loss: 0.6494 - accuracy: 0.6400 - val_loss: 0.6642 - val_accuracy: 0.6252\n",
      "Epoch 3/10\n",
      "1400/1400 [==============================] - 1s 917us/step - loss: 0.6501 - accuracy: 0.6404 - val_loss: 0.6654 - val_accuracy: 0.6238\n",
      "Epoch 4/10\n",
      "1400/1400 [==============================] - 1s 1ms/step - loss: 0.6508 - accuracy: 0.6386 - val_loss: 0.6665 - val_accuracy: 0.6240\n",
      "Epoch 5/10\n",
      "1400/1400 [==============================] - 1s 1ms/step - loss: 0.6515 - accuracy: 0.6392 - val_loss: 0.6675 - val_accuracy: 0.6229\n",
      "Epoch 6/10\n",
      "1400/1400 [==============================] - 1s 931us/step - loss: 0.6521 - accuracy: 0.6384 - val_loss: 0.6685 - val_accuracy: 0.6208\n",
      "Epoch 7/10\n",
      "1400/1400 [==============================] - 1s 930us/step - loss: 0.6528 - accuracy: 0.6376 - val_loss: 0.6697 - val_accuracy: 0.6209\n",
      "Epoch 8/10\n",
      "1400/1400 [==============================] - 1s 988us/step - loss: 0.6534 - accuracy: 0.6363 - val_loss: 0.6709 - val_accuracy: 0.6216\n",
      "Epoch 9/10\n",
      "1400/1400 [==============================] - 1s 957us/step - loss: 0.6543 - accuracy: 0.6364 - val_loss: 0.6720 - val_accuracy: 0.6214\n",
      "Epoch 10/10\n",
      "1400/1400 [==============================] - 2s 1ms/step - loss: 0.6550 - accuracy: 0.6348 - val_loss: 0.6730 - val_accuracy: 0.6206\n"
     ]
    }
   ],
   "source": [
    "history = model.fit(X_train, y_train, epochs=10, verbose=1, validation_data=(X_val, y_val))"
   ]
  },
  {
   "cell_type": "code",
   "execution_count": 24,
   "metadata": {},
   "outputs": [
    {
     "data": {
      "image/png": "[encoded data removed]",
      "text/plain": [
       "<Figure size 432x288 with 1 Axes>"
      ]
     },
     "metadata": {
      "needs_background": "light"
     },
     "output_type": "display_data"
    }
   ],
   "source": [
    "# plot history\n",
    "plt.plot(history.history[\"accuracy\"], label='train')\n",
    "plt.legend()\n",
    "plt.show()"
   ]
  },
  {
   "cell_type": "code",
   "execution_count": 29,
   "metadata": {},
   "outputs": [
    {
     "name": "stdout",
     "output_type": "stream",
     "text": [
      "[1 1 1 1 1 1 1 1 1 1 0 1 1 0 1 1 0 1 1 1]\n"
     ]
    }
   ],
   "source": [
    "print(y_test[:20])"
   ]
  },
  {
   "cell_type": "code",
   "execution_count": 26,
   "metadata": {},
   "outputs": [],
   "source": [
    "predictions = model.predict(X_test)"
   ]
  },
  {
   "cell_type": "code",
   "execution_count": 28,
   "metadata": {},
   "outputs": [
    {
     "name": "stdout",
     "output_type": "stream",
     "text": [
      "[[1]\n",
      " [1]\n",
      " [1]\n",
      " [1]\n",
      " [1]\n",
      " [1]\n",
      " [1]\n",
      " [1]\n",
      " [1]\n",
      " [1]\n",
      " [1]\n",
      " [1]\n",
      " [1]\n",
      " [1]\n",
      " [0]\n",
      " [1]\n",
      " [1]\n",
      " [1]\n",
      " [1]\n",
      " [0]]\n"
     ]
    }
   ],
   "source": [
    "print(np.where(predictions[0:20] > 0.5, 1, 0))"
   ]
  },
  {
   "cell_type": "code",
   "execution_count": null,
   "metadata": {},
   "outputs": [],
   "source": []
  }
 ],
 "metadata": {
  "kernelspec": {
   "display_name": "Python 3",
   "language": "python",
   "name": "python3"
  },
  "language_info": {
   "codemirror_mode": {
    "name": "ipython",
    "version": 3
   },
   "file_extension": ".py",
   "mimetype": "text/x-python",
   "name": "python",
   "nbconvert_exporter": "python",
   "pygments_lexer": "ipython3",
   "version": "3.8.5"
  }
 },
 "nbformat": 4,
 "nbformat_minor": 4
}
